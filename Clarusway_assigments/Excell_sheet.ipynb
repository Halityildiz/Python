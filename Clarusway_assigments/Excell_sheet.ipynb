{
 "cells": [
  {
   "cell_type": "markdown",
   "metadata": {},
   "source": [
    "Given a positive integer, return its corresponding column title as appear in an Excel sheet.\n",
    "For example:\n",
    "1 -> A\n",
    "2 -> B\n",
    "3 -> C\n",
    "...\n",
    "26 -> Z\n",
    "27 -> AA\n",
    "28 -> AB\n",
    "...\n",
    "Example 1:\n",
    "Input: 1\n",
    "Output: \"A\"\n",
    "Example 2:\n",
    "Input: 28\n",
    "Output: \"AB\"\n",
    "Example 3:\n",
    "Input: 701\n",
    "Output: \"ZY\""
   ]
  },
  {
   "cell_type": "code",
   "execution_count": 73,
   "metadata": {},
   "outputs": [
    {
     "data": {
      "text/plain": [
       "'ZZ'"
      ]
     },
     "execution_count": 73,
     "metadata": {},
     "output_type": "execute_result"
    }
   ],
   "source": [
    "def convertToTitle(n):\n",
    "    result = \"\"\n",
    "    while n > 26:\n",
    "        result = chr(65+(n-1)%26)  + result  \n",
    "        n = (n-1) // 26\n",
    "    return chr(64+n) + result       \n",
    "convertToTitle(702)    "
   ]
  },
  {
   "cell_type": "code",
   "execution_count": 75,
   "metadata": {},
   "outputs": [
    {
     "data": {
      "text/plain": [
       "'AZ'"
      ]
     },
     "execution_count": 75,
     "metadata": {},
     "output_type": "execute_result"
    }
   ],
   "source": [
    "def convertToTitle(n):\n",
    "    x =\"\"\n",
    "    while n > 0:\n",
    "        y = (n - 1) % 26\n",
    "        x+= chr(y + ord('A'))\n",
    "        n = (n - 1) // 26\n",
    "    return x[::-1]\n",
    "convertToTitle(52)"
   ]
  }
 ],
 "metadata": {
  "kernelspec": {
   "display_name": "Python 3",
   "language": "python",
   "name": "python3"
  },
  "language_info": {
   "codemirror_mode": {
    "name": "ipython",
    "version": 3
   },
   "file_extension": ".py",
   "mimetype": "text/x-python",
   "name": "python",
   "nbconvert_exporter": "python",
   "pygments_lexer": "ipython3",
   "version": "3.8.5"
  }
 },
 "nbformat": 4,
 "nbformat_minor": 4
}
